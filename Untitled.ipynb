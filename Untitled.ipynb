{
 "cells": [
  {
   "cell_type": "code",
   "execution_count": null,
   "id": "cbc9a91f",
   "metadata": {},
   "outputs": [
    {
     "ename": "",
     "evalue": "",
     "output_type": "error",
     "traceback": [
      "\u001b[1;31mRunning cells with '.venv (Python 3.11.7)' requires the ipykernel package.\n",
      "\u001b[1;31mRun the following command to install 'ipykernel' into the Python environment. \n",
      "\u001b[1;31mCommand: 'c:/Users/gigab/OneDrive/Desktop/MNIST/.venv/bin/python.exe -m pip install ipykernel -U --force-reinstall'"
     ]
    }
   ],
   "source": [
    "import joblib"
   ]
  },
  {
   "cell_type": "code",
   "execution_count": 5,
   "id": "4e8f2560",
   "metadata": {},
   "outputs": [],
   "source": [
    "model = joblib.load('mnist_openheart.joblib')"
   ]
  },
  {
   "cell_type": "code",
   "execution_count": 6,
   "id": "030d536c",
   "metadata": {},
   "outputs": [],
   "source": [
    "from fastapi import FastAPI\n",
    "from fastapi import FastAPI, UploadFile, File, HTTPException\n",
    "from fastapi.responses import JSONResponse\n",
    "from pydantic import BaseModel\n",
    "import joblib\n",
    "import numpy as np"
   ]
  },
  {
   "cell_type": "code",
   "execution_count": null,
   "id": "82c16135",
   "metadata": {},
   "outputs": [],
   "source": [
    "!pip install pyngrok==4.1.10\n",
    "!pip install colabcode\n",
    "!pip install fastapi\n",
    "from colabcode import ColabCode\n",
    "from fastapi import FastAPI"
   ]
  },
  {
   "cell_type": "code",
   "execution_count": null,
   "id": "38a2b1d9",
   "metadata": {},
   "outputs": [],
   "source": [
    "!pip install --upgrade pyngrok\n"
   ]
  },
  {
   "cell_type": "code",
   "execution_count": null,
   "id": "c694597e",
   "metadata": {},
   "outputs": [],
   "source": [
    "pip install nest_asyncio\n"
   ]
  },
  {
   "cell_type": "code",
   "execution_count": null,
   "id": "063f45c4",
   "metadata": {},
   "outputs": [],
   "source": [
    "from fastapi import FastAPI\n",
    "import uvicorn\n",
    "import nest_asyncio\n",
    "\n",
    "# Apply the fix for nested asyncio loops\n",
    "nest_asyncio.apply()\n",
    "\n",
    "app = FastAPI()\n",
    "\n",
    "@app.get(\"/\")\n",
    "async def root():\n",
    "    return {\"message\": \"Hello, FastAPI\"}\n",
    "\n",
    "# If running in a Jupyter environment\n",
    "if __name__ == \"__main__\":\n",
    "    uvicorn.run(app, host=\"0.0.0.0\", port=8000)\n"
   ]
  },
  {
   "cell_type": "code",
   "execution_count": null,
   "id": "e6c206d8",
   "metadata": {},
   "outputs": [],
   "source": [
    "from fastapi import FastAPI, UploadFile, File, HTTPException\n",
    "from fastapi.responses import JSONResponse\n",
    "from pydantic import BaseModel\n",
    "import joblib\n",
    "import numpy as np\n"
   ]
  },
  {
   "cell_type": "code",
   "execution_count": null,
   "id": "c666ab14",
   "metadata": {},
   "outputs": [],
   "source": [
    "def softplus(x):\n",
    "    return np.log(1 + np.exp(x))\n",
    "\n",
    "def mish(x):\n",
    "    return x * np.tanh(softplus(x))\n",
    "\n",
    "def mReLU(Z):\n",
    "    return np.maximum(mish(Z), 0)\n",
    "\n",
    "def softmax(Z):\n",
    "    eZ = np.exp(Z - np.max(Z, axis=0))\n",
    "    return eZ / np.sum(eZ, axis=0)\n",
    "\n",
    "# Forward propagation\n",
    "def forward_prop(W1, b1, W2, b2, W3, b3, X):\n",
    "    Z1 = W1.dot(X) + b1\n",
    "    A1 = mReLU(Z1)\n",
    "    Z2 = W2.dot(A1) + b2\n",
    "    A2 = mReLU(Z2)\n",
    "    Z3 = W3.dot(A2) + b3\n",
    "    A3 = softmax(Z3)\n",
    "    return Z1, A1, Z2, A2, Z3, A3\n",
    "\n",
    "# Prediction function\n",
    "def get_predictions(A3):\n",
    "    return np.argmax(A3, axis=0)\n",
    "\n",
    "def make_predictions(X, W1, b1, W2, b2, W3, b3):\n",
    "    _, _, _, _, _, A3 = forward_prop(W1, b1, W2, b2, W3, b3, X)\n",
    "    predictions = get_predictions(A3)\n",
    "    return predictions"
   ]
  },
  {
   "cell_type": "code",
   "execution_count": null,
   "id": "25ac3222",
   "metadata": {},
   "outputs": [],
   "source": [
    "app=FastAPI()\n",
    "class ImageData(BaseModel):\n",
    "    image: str"
   ]
  },
  {
   "cell_type": "code",
   "execution_count": null,
   "id": "d6d8d439",
   "metadata": {},
   "outputs": [],
   "source": [
    "app.post('/predict')\n",
    "async def predict(image_data: ImageData):\n",
    "    try:\n",
    "        # Convert the string image data to a numpy array\n",
    "        # Assuming the input is a base64 encoded image string\n",
    "        image_array = np.fromstring(image_data.image, np.uint8)  # Modify as needed to decode your image format\n",
    "        image_array = image_array.reshape(784, 1) / 255.0  # Normalize and reshape\n",
    "\n",
    "        # Make predictions\n",
    "        prediction = make_predictions(image_array, W1, b1, W2, b2, W3, b3)\n",
    "        return JSONResponse(content={'prediction': int(prediction[0])})\n",
    "    except Exception as e:\n",
    "        raise HTTPException(status_code=400, detail=str(e))"
   ]
  },
  {
   "cell_type": "code",
   "execution_count": null,
   "id": "3c09b2fe",
   "metadata": {},
   "outputs": [],
   "source": []
  },
  {
   "cell_type": "code",
   "execution_count": null,
   "id": "c3bff96d",
   "metadata": {},
   "outputs": [],
   "source": []
  }
 ],
 "metadata": {
  "kernelspec": {
   "display_name": "Python 3 (ipykernel)",
   "language": "python",
   "name": "python3"
  },
  "language_info": {
   "codemirror_mode": {
    "name": "ipython",
    "version": 3
   },
   "file_extension": ".py",
   "mimetype": "text/x-python",
   "name": "python",
   "nbconvert_exporter": "python",
   "pygments_lexer": "ipython3",
   "version": "3.11.7"
  }
 },
 "nbformat": 4,
 "nbformat_minor": 5
}
